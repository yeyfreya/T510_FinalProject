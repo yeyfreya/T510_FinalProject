{
 "cells": [
  {
   "cell_type": "code",
   "execution_count": 2,
   "metadata": {},
   "outputs": [
    {
     "name": "stderr",
     "output_type": "stream",
     "text": [
      "WARNING:absl:At this time, the v2.11+ optimizer `tf.keras.optimizers.Adam` runs slowly on M1/M2 Macs, please use the legacy Keras optimizer instead, located at `tf.keras.optimizers.legacy.Adam`.\n"
     ]
    },
    {
     "name": "stdout",
     "output_type": "stream",
     "text": [
      "Model loaded successfully!\n"
     ]
    }
   ],
   "source": [
    "from tensorflow.keras.models import load_model\n",
    "\n",
    "try:\n",
    "    model = load_model('tone_recognition.h5')\n",
    "    print(\"Model loaded successfully!\")\n",
    "except Exception as e:\n",
    "    print(f\"Error loading model: {e}\")\n"
   ]
  },
  {
   "cell_type": "code",
   "execution_count": 3,
   "metadata": {},
   "outputs": [
    {
     "name": "stdout",
     "output_type": "stream",
     "text": [
      "Model: \"sequential\"\n",
      "_________________________________________________________________\n",
      " Layer (type)                Output Shape              Param #   \n",
      "=================================================================\n",
      " dense (Dense)               (None, 256)               41728     \n",
      "                                                                 \n",
      " dense_1 (Dense)             (None, 722)               185554    \n",
      "                                                                 \n",
      " dropout (Dropout)           (None, 722)               0         \n",
      "                                                                 \n",
      " dense_2 (Dense)             (None, 579)               418617    \n",
      "                                                                 \n",
      " dropout_1 (Dropout)         (None, 579)               0         \n",
      "                                                                 \n",
      " dense_3 (Dense)             (None, 386)               223880    \n",
      "                                                                 \n",
      " dropout_2 (Dropout)         (None, 386)               0         \n",
      "                                                                 \n",
      " dense_4 (Dense)             (None, 8)                 3096      \n",
      "                                                                 \n",
      "=================================================================\n",
      "Total params: 872875 (3.33 MB)\n",
      "Trainable params: 872875 (3.33 MB)\n",
      "Non-trainable params: 0 (0.00 Byte)\n",
      "_________________________________________________________________\n"
     ]
    }
   ],
   "source": [
    "model.summary()"
   ]
  },
  {
   "cell_type": "code",
   "execution_count": 5,
   "metadata": {},
   "outputs": [
    {
     "name": "stdout",
     "output_type": "stream",
     "text": [
      "Error making prediction: in user code:\n",
      "\n",
      "    File \"/Users/littleshadow/anaconda3/lib/python3.11/site-packages/keras/src/engine/training.py\", line 2440, in predict_function  *\n",
      "        return step_function(self, iterator)\n",
      "    File \"/Users/littleshadow/anaconda3/lib/python3.11/site-packages/keras/src/engine/training.py\", line 2425, in step_function  **\n",
      "        outputs = model.distribute_strategy.run(run_step, args=(data,))\n",
      "    File \"/Users/littleshadow/anaconda3/lib/python3.11/site-packages/keras/src/engine/training.py\", line 2413, in run_step  **\n",
      "        outputs = model.predict_step(data)\n",
      "    File \"/Users/littleshadow/anaconda3/lib/python3.11/site-packages/keras/src/engine/training.py\", line 2381, in predict_step\n",
      "        return self(x, training=False)\n",
      "    File \"/Users/littleshadow/anaconda3/lib/python3.11/site-packages/keras/src/utils/traceback_utils.py\", line 70, in error_handler\n",
      "        raise e.with_traceback(filtered_tb) from None\n",
      "    File \"/Users/littleshadow/anaconda3/lib/python3.11/site-packages/keras/src/engine/input_spec.py\", line 298, in assert_input_compatibility\n",
      "        raise ValueError(\n",
      "\n",
      "    ValueError: Input 0 of layer \"sequential\" is incompatible with the layer: expected shape=(None, 162), found shape=(None, 40, 1)\n",
      "\n"
     ]
    }
   ],
   "source": [
    "import librosa\n",
    "import numpy as np\n",
    "\n",
    "# Path to your audio file\n",
    "audio_path = 'Surprise_voice_36.wav'\n",
    "\n",
    "# Load the audio file\n",
    "audio, sample_rate = librosa.load(audio_path, sr=None)\n",
    "\n",
    "# Feature extraction\n",
    "# You should replace this with whatever feature extraction you did during training\n",
    "# For demonstration, let's use MFCCs as an example feature\n",
    "mfccs = librosa.feature.mfcc(y=audio, sr=sample_rate, n_mfcc=40)\n",
    "mfccs_processed = np.mean(mfccs.T,axis=0)\n",
    "\n",
    "# Reshape for the model\n",
    "# The reshaping depends on your model's expected input\n",
    "# This is just an example, adjust according to your model's needs\n",
    "sample_input = np.array([mfccs_processed])\n",
    "sample_input = np.expand_dims(sample_input, axis=2)  # Example reshaping if needed\n",
    "\n",
    "# Predict\n",
    "try:\n",
    "    prediction = model.predict(sample_input)\n",
    "    print(\"Prediction successful!\")\n",
    "    print(prediction)\n",
    "except Exception as e:\n",
    "    print(f\"Error making prediction: {e}\")\n"
   ]
  },
  {
   "cell_type": "code",
   "execution_count": 6,
   "metadata": {},
   "outputs": [
    {
     "ename": "NameError",
     "evalue": "name 'predicted_emotion' is not defined",
     "output_type": "error",
     "traceback": [
      "\u001b[0;31m---------------------------------------------------------------------------\u001b[0m",
      "\u001b[0;31mNameError\u001b[0m                                 Traceback (most recent call last)",
      "\u001b[1;32m/Users/littleshadow/Documents/GIX/TECHIN 510 Programming/T510_FinalProject/modeltest.ipynb Cell 4\u001b[0m line \u001b[0;36m1\n\u001b[0;32m----> <a href='vscode-notebook-cell:/Users/littleshadow/Documents/GIX/TECHIN%20510%20Programming/T510_FinalProject/modeltest.ipynb#W3sZmlsZQ%3D%3D?line=0'>1</a>\u001b[0m \u001b[39mprint\u001b[39m(\u001b[39m\"\u001b[39m\u001b[39mPredicted emotion index:\u001b[39m\u001b[39m\"\u001b[39m, predicted_emotion)\n",
      "\u001b[0;31mNameError\u001b[0m: name 'predicted_emotion' is not defined"
     ]
    }
   ],
   "source": [
    "print(\"Predicted emotion index:\", predicted_emotion)"
   ]
  },
  {
   "cell_type": "code",
   "execution_count": null,
   "metadata": {},
   "outputs": [],
   "source": []
  }
 ],
 "metadata": {
  "kernelspec": {
   "display_name": "base",
   "language": "python",
   "name": "python3"
  },
  "language_info": {
   "codemirror_mode": {
    "name": "ipython",
    "version": 3
   },
   "file_extension": ".py",
   "mimetype": "text/x-python",
   "name": "python",
   "nbconvert_exporter": "python",
   "pygments_lexer": "ipython3",
   "version": "3.11.5"
  }
 },
 "nbformat": 4,
 "nbformat_minor": 2
}
